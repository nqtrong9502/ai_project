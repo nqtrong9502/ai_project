{
 "cells": [
  {
   "cell_type": "code",
   "execution_count": 1,
   "metadata": {},
   "outputs": [],
   "source": [
    "import pandas as pd\n",
    "from sklearn.model_selection import train_test_split\n",
    "import numpy as np\n",
    "import matplotlib.pyplot as plt\n",
    "# import skfuzzy as fuzz\n",
    "from sklearn.ensemble import RandomForestClassifier\n",
    "from sklearn.metrics import f1_score\n",
    "import joblib"
   ]
  },
  {
   "cell_type": "code",
   "execution_count": 3,
   "metadata": {},
   "outputs": [],
   "source": [
    "df = pd.read_csv('data (2).csv')\n",
    "X = df.iloc[:,:23].values\n",
    "y = df.iloc[:,23].values\n",
    "label = []"
   ]
  },
  {
   "cell_type": "markdown",
   "metadata": {},
   "source": [
    "DATA"
   ]
  },
  {
   "cell_type": "code",
   "execution_count": 4,
   "metadata": {},
   "outputs": [],
   "source": [
    "def gaussian_membership_function(x, mean, sigma):\n",
    "\n",
    "  exponent = -np.power((x - mean) / sigma, 2) / 2\n",
    "\n",
    "  # Calculate the membership value.\n",
    "  membership = np.exp(exponent)\n",
    "\n",
    "  return membership"
   ]
  },
  {
   "cell_type": "code",
   "execution_count": 9,
   "metadata": {},
   "outputs": [
    {
     "name": "stdout",
     "output_type": "stream",
     "text": [
      "31.705 12.12385974019825\n",
      "2.365 1.6738503517339893\n",
      "1.4875 0.9898705723477187\n"
     ]
    }
   ],
   "source": [
    "age = []\n",
    "mean_age = np.mean(X[:,0])\n",
    "std_age = np.std(X[:,0])\n",
    "for i in X[:,0]:\n",
    "  re = gaussian_membership_function(i, mean_age,std_age)\n",
    "  age.append(re.tolist())\n",
    "# age = np.array(age)\n",
    "print(mean_age, std_age)\n",
    "\n",
    "fre = []\n",
    "mean_fre = np.mean(X[:,2])\n",
    "std_fre = np.std(X[:,2])\n",
    "for i in X[:,2]:\n",
    "  re = gaussian_membership_function(i, mean_fre,std_fre)\n",
    "  fre.append(re.tolist())\n",
    "\n",
    "print(mean_fre, std_fre)\n",
    "\n",
    "visual = []\n",
    "mean_visual = np.mean(X[:,10])\n",
    "std_visual = np.std(X[:,10])\n",
    "for i in X[:,10]:\n",
    "  re = gaussian_membership_function(i, mean_visual,std_visual)\n",
    "  visual.append(re.tolist())\n",
    "print(mean_visual, std_visual)\n",
    "\n",
    "# visual = np.array(visual)"
   ]
  },
  {
   "cell_type": "code",
   "execution_count": 11,
   "metadata": {},
   "outputs": [],
   "source": [
    "all_data = []\n",
    "for i in range(23):\n",
    "  if i == 0:\n",
    "    all_data.append(age)\n",
    "  elif i == 2:\n",
    "    all_data.append(fre)\n",
    "  elif i == 10:\n",
    "    all_data.append(visual)\n",
    "  else:\n",
    "    all_data.append(X[:,i].tolist())\n",
    "all_data = np.array(all_data)\n",
    "all_data = np.transpose(all_data, (1,0))"
   ]
  },
  {
   "cell_type": "code",
   "execution_count": 12,
   "metadata": {},
   "outputs": [
    {
     "name": "stdout",
     "output_type": "stream",
     "text": [
      "(400, 23)\n"
     ]
    }
   ],
   "source": [
    "print(all_data.shape)"
   ]
  },
  {
   "cell_type": "markdown",
   "metadata": {},
   "source": [
    "LABEL"
   ]
  },
  {
   "cell_type": "code",
   "execution_count": 16,
   "metadata": {},
   "outputs": [],
   "source": [
    "label = []\n",
    "for i in y:\n",
    "  if i == 'Typical aura without migraine':\n",
    "    label.append(0)\n",
    "  elif i == \"Typical aura with migraine\":\n",
    "    label.append(1)\n",
    "  elif i ==  \"Sporadic hemiplegic migraine\":\n",
    "    label.append(2)\n",
    "  elif i ==  \"Other\":\n",
    "    label.append(3)\n",
    "  elif i == \"Migraine without aura\":\n",
    "    label.append(4)\n",
    "  elif i == \"Familial hemiplegic migraine\":\n",
    "    label.append(5)\n",
    "  elif i == \"Basilar-type aura\":\n",
    "    label.append(6)\n",
    "label = np.array(label)"
   ]
  },
  {
   "cell_type": "code",
   "execution_count": 17,
   "metadata": {},
   "outputs": [],
   "source": [
    "X_train, X_test, y_train, y_test = train_test_split(all_data, label, test_size=0.1, random_state=42)\n"
   ]
  },
  {
   "cell_type": "code",
   "execution_count": 41,
   "metadata": {},
   "outputs": [],
   "source": [
    "clf = RandomForestClassifier(max_depth=9, random_state=9)"
   ]
  },
  {
   "cell_type": "code",
   "execution_count": 42,
   "metadata": {},
   "outputs": [],
   "source": [
    "clf.fit(X_train, y_train)\n",
    "result_predict = clf.predict(X_test)"
   ]
  },
  {
   "cell_type": "code",
   "execution_count": 43,
   "metadata": {},
   "outputs": [
    {
     "data": {
      "text/plain": [
       "['random_forest.joblib']"
      ]
     },
     "execution_count": 43,
     "metadata": {},
     "output_type": "execute_result"
    }
   ],
   "source": [
    "joblib.dump(clf, 'random_forest.joblib')"
   ]
  },
  {
   "cell_type": "code",
   "execution_count": 44,
   "metadata": {},
   "outputs": [
    {
     "data": {
      "text/plain": [
       "0.9"
      ]
     },
     "execution_count": 44,
     "metadata": {},
     "output_type": "execute_result"
    }
   ],
   "source": [
    "f1_score(y_test, result_predict, average='micro')"
   ]
  }
 ],
 "metadata": {
  "kernelspec": {
   "display_name": "Python 3",
   "language": "python",
   "name": "python3"
  },
  "language_info": {
   "codemirror_mode": {
    "name": "ipython",
    "version": 3
   },
   "file_extension": ".py",
   "mimetype": "text/x-python",
   "name": "python",
   "nbconvert_exporter": "python",
   "pygments_lexer": "ipython3",
   "version": "3.10.5"
  }
 },
 "nbformat": 4,
 "nbformat_minor": 2
}
